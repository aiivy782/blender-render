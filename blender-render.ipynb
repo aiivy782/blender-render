{
  "nbformat": 4,
  "nbformat_minor": 0,
  "metadata": {
    "colab": {
      "provenance": [],
      "private_outputs": true
    },
    "kernelspec": {
      "name": "python3",
      "display_name": "Python 3"
    },
    "language_info": {
      "name": "python"
    },
    "accelerator": "GPU",
    "gpuClass": "standard"
  },
  "cells": [
    {
      "cell_type": "markdown",
      "source": [
        "### Hi! This is a Jupyter Notebook for rendering your projects in Blender 3.3.1 and lower.\n"
      ],
      "metadata": {
        "id": "jarHfr5B__Q0"
      }
    },
    {
      "cell_type": "markdown",
      "source": [
        "I made this notepad primarily for myself, since I have a low-end PC.  It's so lame that when rendering in Blender, I can't use it, and on top of that, the rendering time can range from 1 to 26 hours, which is VERY LARGE!\n",
        "I thought I'd share this notepad with you, since low-end PCs are still a thing. But even if you don't have a dumb computer, you can use the power of Google Colab to do multiple tasks in parallel. It's so handy! Upload your .blend file to Colab and let it render, and then go do other tasks that require a PC.\n",
        "\n",
        "About the capabilities of this notepad: version Blender 3.3.1 LTS, renders pictures and animations (without sound), and that's all :) \n",
        "\n",
        "Google Colab: https://colab.research.google.com/drive/1hGhxJ1UPepOP0a_ZFk_xFcgoDi_B36tU"
      ],
      "metadata": {
        "id": "kVDmTb6YCjqZ"
      }
    },
    {
      "cell_type": "code",
      "source": [
        "#@markdown ###General\n",
        "blend_file = 'project.blend' #@param {type: 'string'}\n",
        "output_name = 'output' #@param {type: 'string'}\n",
        "renderer = 'CYCLES' #@param ['CYCLES', 'EEVEE', 'WORKBENCH']\n",
        "#@markdown ---\n",
        "#@markdown ###Animation \n",
        "anim = False #@param {type: 'boolean'}\n",
        "start_frame = 1 #@param {type: 'integer'}\n",
        "end_frame = 250 #@param {type: 'integer'}\n"
      ],
      "metadata": {
        "id": "ZwlYSxsU8QXO"
      },
      "execution_count": null,
      "outputs": []
    },
    {
      "cell_type": "code",
      "source": [
        "from google.colab import drive\n",
        "drive.mount('/content/drive')"
      ],
      "metadata": {
        "id": "DCCDsgQ6N_Z0"
      },
      "execution_count": null,
      "outputs": []
    },
    {
      "cell_type": "code",
      "execution_count": null,
      "metadata": {
        "id": "OVraz0jsSmOA"
      },
      "outputs": [],
      "source": [
        "import os\n",
        "\n",
        "os.environ[\"LD_PRELOAD\"] = \"\"\n",
        "\n",
        "!apt remove libtcmalloc-minimal4\n",
        "!apt install libtcmalloc-minimal4\n",
        "\n",
        "os.environ[\"LD_PRELOAD\"] = \"/usr/lib/x86_64-linux-gnu/libtcmalloc_minimal.so.4.3.0\""
      ]
    },
    {
      "cell_type": "code",
      "source": [
        "!nvidia-smi"
      ],
      "metadata": {
        "id": "KfUc0ubPO-KV"
      },
      "execution_count": null,
      "outputs": []
    },
    {
      "cell_type": "code",
      "source": [
        "data = \"import re\\n\"+\\\n",
        "  \"import bpy\\n\"+\\\n",
        "  \"scene = bpy.context.scene\\n\"+\\\n",
        "  \"scene.cycles.device = 'GPU'\\n\"+\\\n",
        "  \"prefs = bpy.context.preferences\\n\"+\\\n",
        "  \"prefs.addons['cycles'].preferences.get_devices()\\n\"+\\\n",
        "  \"cprefs = prefs.addons['cycles'].preferences\\n\"+\\\n",
        "  \"print(cprefs)\\n\"+\\\n",
        "  \"for compute_device_type in ('CUDA', 'OPENCL', 'NONE'):\\n\"+\\\n",
        "  \"    try:\\n\"+\\\n",
        "  \"        cprefs.compute_device_type = compute_device_type\\n\"+\\\n",
        "  \"        print('Device found:',compute_device_type)\\n\"+\\\n",
        "  \"        break\\n\"+\\\n",
        "  \"    except TypeError:\\n\"+\\\n",
        "  \"        pass\\n\"+\\\n",
        "  \"for device in cprefs.devices:\\n\"+\\\n",
        "  \"    if not re.match('intel', device.name, re.I):\\n\"+\\\n",
        "  \"        print('Activating',device)\\n\"+\\\n",
        "  \"        device.use = \"+\"True\"+\"\\n\"+\\\n",
        "  \"    else:\\n\"+\\\n",
        "  \"        device.use = \"+\"False\"+\"\\n\"\n",
        "with open('setgpu.py', 'w') as f:\n",
        "  f.write(data)"
      ],
      "metadata": {
        "id": "aqDa_p99Wk1C"
      },
      "execution_count": null,
      "outputs": []
    },
    {
      "cell_type": "code",
      "source": [
        "!wget -nc https://mirrors.ocf.berkeley.edu/blender/release/Blender3.3/blender-3.3.1-linux-x64.tar.xz\n",
        "!tar -xkf blender-3.3.1-linux-x64.tar.xz\n",
        "!rm blender-3.3.1-linux-x64.tar.xz"
      ],
      "metadata": {
        "id": "rjQqN8J8S9pc"
      },
      "execution_count": null,
      "outputs": []
    },
    {
      "cell_type": "code",
      "source": [
        "if anim == False:\n",
        "  !./blender-3.3.1-linux-x64/blender -b \"/content/drive/MyDrive/$blend_file\" -P setgpu.py -E $renderer -o \"/content/drive/MyDrive/$output_name\" -noaudio -f 1 --\n",
        "else:\n",
        "  !./blender-3.3.1-linux-x64/blender -b \"/content/drive/MyDrive/$blend_file\" -P setgpu.py -E $renderer -o \"/content/drive/MyDrive/$output_name\" -noaudio -s $start_frame -e $end_frame --"
      ],
      "metadata": {
        "id": "Vo1dbi80TP6S"
      },
      "execution_count": null,
      "outputs": []
    }
  ]
}
